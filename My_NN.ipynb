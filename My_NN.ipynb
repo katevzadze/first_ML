{
  "nbformat": 4,
  "nbformat_minor": 0,
  "metadata": {
    "colab": {
      "provenance": [],
      "authorship_tag": "ABX9TyOhMTyGmk7lOAUUREcEKA6V",
      "include_colab_link": true
    },
    "kernelspec": {
      "name": "python3",
      "display_name": "Python 3"
    },
    "language_info": {
      "name": "python"
    }
  },
  "cells": [
    {
      "cell_type": "markdown",
      "metadata": {
        "id": "view-in-github",
        "colab_type": "text"
      },
      "source": [
        "<a href=\"https://colab.research.google.com/github/katevzadze/first_ML/blob/main/My_NN.ipynb\" target=\"_parent\"><img src=\"https://colab.research.google.com/assets/colab-badge.svg\" alt=\"Open In Colab\"/></a>"
      ]
    },
    {
      "cell_type": "markdown",
      "source": [
        "# ML #4 \"Создание и обучение первой нейронной сети\""
      ],
      "metadata": {
        "id": "tJVuDGEsBt2W"
      }
    },
    {
      "cell_type": "code",
      "execution_count": null,
      "metadata": {
        "id": "B4YPgMAE0F2J"
      },
      "outputs": [],
      "source": [
        "import matplotlib.pyplot as plt\n",
        "import numpy as np\n",
        "import PIL\n",
        "import tensorflow as tf\n",
        "import random\n",
        "from tensorflow import keras\n",
        "from keras import layers\n",
        "from keras.models import Sequential\n",
        "import pathlib\n",
        "from typing import List, Tuple, Union"
      ]
    },
    {
      "cell_type": "markdown",
      "source": [
        "2) Загрузка и извлечение датасета"
      ],
      "metadata": {
        "id": "4gIGQ9NC0jvK"
      }
    },
    {
      "cell_type": "code",
      "source": [
        "dataset_url: str = \"https://storage.googleapis.com/download.tensorflow.org/example_images/flower_photos.tgz\"\n",
        "dataset_dir: pathlib.Path = pathlib.Path(tf.keras.utils.get_file('flower_photos.tar', origin=dataset_url, extract=True)).with_suffix('')"
      ],
      "metadata": {
        "colab": {
          "base_uri": "https://localhost:8080/"
        },
        "id": "LhKGMRxs0f9N",
        "outputId": "2808980a-4233-4c51-cdc2-f897fdf9a4e7"
      },
      "execution_count": null,
      "outputs": [
        {
          "output_type": "stream",
          "name": "stdout",
          "text": [
            "Downloading data from https://storage.googleapis.com/download.tensorflow.org/example_images/flower_photos.tgz\n",
            "228813984/228813984 [==============================] - 9s 0us/step\n"
          ]
        }
      ]
    },
    {
      "cell_type": "markdown",
      "source": [
        "3) Проверка датасета"
      ],
      "metadata": {
        "id": "8HYt5Oa-2avv"
      }
    },
    {
      "cell_type": "code",
      "source": [
        "image_count: int = len(list(dataset_dir.glob(\"*/*.jpg\")))\n",
        "print(image_count)"
      ],
      "metadata": {
        "colab": {
          "base_uri": "https://localhost:8080/"
        },
        "id": "xUa8zp8R2ivh",
        "outputId": "2dde1f80-8085-4416-b506-e288692de1cf"
      },
      "execution_count": null,
      "outputs": [
        {
          "output_type": "stream",
          "name": "stdout",
          "text": [
            "3670\n"
          ]
        }
      ]
    },
    {
      "cell_type": "markdown",
      "source": [
        "4) Подготовка данных и модели"
      ],
      "metadata": {
        "id": "4MAgFWpY2shc"
      }
    },
    {
      "cell_type": "code",
      "source": [
        "batch_size = 32\n",
        "img_width = 180\n",
        "img_height = 180\n",
        "random_seed = random.randint(0,9999)\n",
        "\n",
        "def create_image_dataset(\n",
        "    dataset_dir: pathlib.Path,\n",
        "    subset: str,\n",
        "    image_size: tuple[int,int],\n",
        "    batch_size: int\n",
        ") -> tf.data.Dataset:\n",
        "  return tf.keras.utils.image_dataset_from_directory(\n",
        "      dataset_dir,\n",
        "      validation_split = 0.2,\n",
        "      subset = subset,\n",
        "      seed = random_seed,\n",
        "      image_size = image_size,\n",
        "      batch_size = batch_size\n",
        "  )\n",
        "train_ds_original: tf.data.Dataset = create_image_dataset(dataset_dir,\"training\",(img_height,img_width),batch_size)\n",
        "val_ds_original: tf.data.Dataset = create_image_dataset(dataset_dir,\"validation\",(img_height,img_width),batch_size)\n"
      ],
      "metadata": {
        "colab": {
          "base_uri": "https://localhost:8080/"
        },
        "id": "8o8T6Skw3KwX",
        "outputId": "01c0e87a-d76e-401a-e8e2-1dae8ea88462"
      },
      "execution_count": null,
      "outputs": [
        {
          "output_type": "stream",
          "name": "stdout",
          "text": [
            "Found 3670 files belonging to 5 classes.\n",
            "Using 2936 files for training.\n",
            "Found 3670 files belonging to 5 classes.\n",
            "Using 734 files for validation.\n"
          ]
        }
      ]
    },
    {
      "cell_type": "markdown",
      "source": [
        "5) Подготовка данных с кэшированием и предварительной загрузкой"
      ],
      "metadata": {
        "id": "yaAUI2WgGQrH"
      }
    },
    {
      "cell_type": "code",
      "source": [
        "class_names: list[str] = train_ds_original.class_names\n",
        "print(f\"Class names: {class_names}\")\n",
        "AUTOTUNE: int = tf.data.AUTOTUNE\n",
        "train_ds = train_ds_original.cache().shuffle(1000).prefetch(buffer_size=AUTOTUNE)\n",
        "val_ds = train_ds_original.cache().shuffle(1000).prefetch(buffer_size=AUTOTUNE)"
      ],
      "metadata": {
        "colab": {
          "base_uri": "https://localhost:8080/"
        },
        "id": "GSmpOhkgGlnu",
        "outputId": "1372c571-99e1-4ae6-cc85-cea56bca56bd"
      },
      "execution_count": null,
      "outputs": [
        {
          "output_type": "stream",
          "name": "stdout",
          "text": [
            "Class names: ['daisy', 'dandelion', 'roses', 'sunflowers', 'tulips']\n"
          ]
        }
      ]
    },
    {
      "cell_type": "markdown",
      "source": [
        "6) Создание модели нейронной сети"
      ],
      "metadata": {
        "id": "AjPMZNu3JK14"
      }
    },
    {
      "cell_type": "code",
      "source": [
        "num_classes: int = len(class_names)\n",
        "model: keras.Sequential = Sequential([\n",
        "    tf.keras.layers.experimental.preprocessing.Rescaling(1./255, input_shape=(img_height, img_width, 3)),\n",
        "    layers.Conv2D(16, 3, padding='same', activation='relu'),\n",
        "    layers.MaxPooling2D(),\n",
        "    layers.Conv2D(32, 3, padding='same', activation='relu'),\n",
        "    layers.MaxPooling2D(),\n",
        "    layers.Conv2D(64, 3, padding='same', activation='relu'),\n",
        "    layers.MaxPooling2D(),\n",
        "    layers.Flatten(),\n",
        "    layers.Dense(128, activation='relu'),\n",
        "    layers.Dense(num_classes)\n",
        "])"
      ],
      "metadata": {
        "id": "VcD3SV8vJQlm"
      },
      "execution_count": null,
      "outputs": []
    },
    {
      "cell_type": "markdown",
      "source": [
        "7) Компиляция модели"
      ],
      "metadata": {
        "id": "i9ImzSVzL9JC"
      }
    },
    {
      "cell_type": "code",
      "source": [
        "model.compile(\n",
        "    optimizer = \"adam\",\n",
        "    loss=tf.keras.losses.SparseCategoricalCrossentropy(from_logits=True),\n",
        "    metrics = ['accuracy']\n",
        ")"
      ],
      "metadata": {
        "id": "uOQJGYZeMCtm"
      },
      "execution_count": null,
      "outputs": []
    },
    {
      "cell_type": "markdown",
      "source": [
        "8) Обучение модели"
      ],
      "metadata": {
        "id": "fA6nT_djM6Zo"
      }
    },
    {
      "cell_type": "code",
      "source": [
        "epochs: int = 10\n",
        "history: keras.callbacks.History = model.fit(\n",
        "    train_ds,\n",
        "    validation_data = val_ds,\n",
        "    epochs=epochs\n",
        ")"
      ],
      "metadata": {
        "colab": {
          "base_uri": "https://localhost:8080/"
        },
        "id": "62qfnwiPM_z6",
        "outputId": "8dc62e2c-edaf-40b7-ad80-74c8f62a71f6"
      },
      "execution_count": null,
      "outputs": [
        {
          "output_type": "stream",
          "name": "stdout",
          "text": [
            "Epoch 1/10\n",
            "92/92 [==============================] - 72s 743ms/step - loss: 1.4386 - accuracy: 0.3995 - val_loss: 1.0858 - val_accuracy: 0.5599\n",
            "Epoch 2/10\n",
            "92/92 [==============================] - 68s 738ms/step - loss: 1.0103 - accuracy: 0.6008 - val_loss: 0.9069 - val_accuracy: 0.6420\n",
            "Epoch 3/10\n",
            "92/92 [==============================] - 63s 687ms/step - loss: 0.8278 - accuracy: 0.6962 - val_loss: 0.6462 - val_accuracy: 0.7715\n",
            "Epoch 4/10\n",
            "92/92 [==============================] - 68s 744ms/step - loss: 0.6291 - accuracy: 0.7752 - val_loss: 0.4832 - val_accuracy: 0.8501\n",
            "Epoch 5/10\n",
            "92/92 [==============================] - 64s 699ms/step - loss: 0.4149 - accuracy: 0.8542 - val_loss: 0.2935 - val_accuracy: 0.8985\n",
            "Epoch 6/10\n",
            "92/92 [==============================] - 69s 750ms/step - loss: 0.2534 - accuracy: 0.9210 - val_loss: 0.1880 - val_accuracy: 0.9435\n",
            "Epoch 7/10\n",
            "92/92 [==============================] - 73s 791ms/step - loss: 0.1853 - accuracy: 0.9377 - val_loss: 0.1251 - val_accuracy: 0.9670\n",
            "Epoch 8/10\n",
            "92/92 [==============================] - 78s 855ms/step - loss: 0.0908 - accuracy: 0.9768 - val_loss: 0.0390 - val_accuracy: 0.9905\n",
            "Epoch 9/10\n",
            "92/92 [==============================] - 66s 719ms/step - loss: 0.0572 - accuracy: 0.9881 - val_loss: 0.0751 - val_accuracy: 0.9768\n",
            "Epoch 10/10\n",
            "92/92 [==============================] - 63s 688ms/step - loss: 0.0636 - accuracy: 0.9843 - val_loss: 0.0364 - val_accuracy: 0.9922\n"
          ]
        }
      ]
    },
    {
      "cell_type": "markdown",
      "source": [
        "9) Получение истории обучения модели"
      ],
      "metadata": {
        "id": "oh1MKUyFPWA7"
      }
    },
    {
      "cell_type": "code",
      "source": [
        "print(history.history)"
      ],
      "metadata": {
        "colab": {
          "base_uri": "https://localhost:8080/"
        },
        "id": "0QkJPSm6PfAp",
        "outputId": "75098814-7f66-4fe8-8a97-191594db4d44"
      },
      "execution_count": null,
      "outputs": [
        {
          "output_type": "stream",
          "name": "stdout",
          "text": [
            "{'loss': [1.4386160373687744, 1.0102921724319458, 0.827808678150177, 0.6290662288665771, 0.41494327783584595, 0.25335824489593506, 0.1852530539035797, 0.09078726917505264, 0.05721622705459595, 0.06364751607179642], 'accuracy': [0.39952316880226135, 0.6008174419403076, 0.696185290813446, 0.7752043604850769, 0.8542234301567078, 0.9209809303283691, 0.9376702904701233, 0.9768392443656921, 0.9880790114402771, 0.9843324422836304], 'val_loss': [1.0857508182525635, 0.9069300293922424, 0.6461789011955261, 0.4831632077693939, 0.29350268840789795, 0.18803170323371887, 0.1251266747713089, 0.03904855251312256, 0.07507234811782837, 0.03639264404773712], 'val_accuracy': [0.5599455237388611, 0.6420300006866455, 0.7714577913284302, 0.8501362204551697, 0.8985013365745544, 0.9434604644775391, 0.9669618606567383, 0.9904631972312927, 0.9768392443656921, 0.9921662211418152]}\n"
          ]
        }
      ]
    },
    {
      "cell_type": "markdown",
      "source": [
        "10) Визуализация данных"
      ],
      "metadata": {
        "id": "sC8Wizw4Pp5R"
      }
    },
    {
      "cell_type": "code",
      "source": [
        "acc: list[float] = history.history['accuracy']\n",
        "val_acc: list[float] = history.history['val_accuracy']\n",
        "loss: list[float] = history.history['loss']\n",
        "val_loss: list[float] = history.history['val_loss']\n",
        "epochs_range: range = range(epochs)\n",
        "\n",
        "plt.figure(figsize=(8,8))\n",
        "plt.subplot(1,2,1)\n",
        "plt.plot(epochs_range,acc,label=\"Training Accuracy\")\n",
        "plt.plot(epochs_range,acc,label=\"Validation Accuracy\")\n",
        "plt.legend(loc='lower right')\n",
        "plt.title('Training and Validation Accuracy')\n",
        "\n",
        "plt.subplot(1,2,2)\n",
        "plt.plot(epochs_range,loss,label=\"Training Loss\")\n",
        "plt.plot(epochs_range,val_loss,label=\"Validation Loss\")\n",
        "plt.legend(loc='lower left')\n",
        "plt.title('Training and Validation Loss')\n",
        "plt.show()"
      ],
      "metadata": {
        "colab": {
          "base_uri": "https://localhost:8080/",
          "height": 699
        },
        "id": "vg5WS8ZGQG8D",
        "outputId": "97887922-7aa9-4177-ef4d-dfb7d10e04ec"
      },
      "execution_count": null,
      "outputs": [
        {
          "output_type": "display_data",
          "data": {
            "text/plain": [
              "<Figure size 800x800 with 2 Axes>"
            ],
            "image/png": "[encoded data removed]"
          },
          "metadata": {}
        }
      ]
    },
    {
      "cell_type": "markdown",
      "source": [
        "# ML #5 Дообучение нейроонной сети"
      ],
      "metadata": {
        "id": "d-Y6OB9q1Pjt"
      }
    },
    {
      "cell_type": "markdown",
      "source": [
        "1) Дообучение модели"
      ],
      "metadata": {
        "id": "RJ3Dx9UD0GUf"
      }
    },
    {
      "cell_type": "code",
      "source": [
        "epochs: int = 20\n",
        "history: keras.callbacks.History = model.fit(\n",
        "    train_ds,\n",
        "    validation_data = val_ds,\n",
        "    epochs = epochs\n",
        ")"
      ],
      "metadata": {
        "colab": {
          "base_uri": "https://localhost:8080/"
        },
        "id": "TSNQ_2gZzVpP",
        "outputId": "d55bf898-be0d-4861-9790-390637b7652e"
      },
      "execution_count": null,
      "outputs": [
        {
          "output_type": "stream",
          "name": "stdout",
          "text": [
            "Epoch 1/20\n",
            "92/92 [==============================] - 156s 2s/step - loss: 1.3660 - accuracy: 0.4114 - val_loss: 1.0256 - val_accuracy: 0.5872\n",
            "Epoch 2/20\n",
            "92/92 [==============================] - 144s 2s/step - loss: 1.0203 - accuracy: 0.5971 - val_loss: 0.8793 - val_accuracy: 0.6727\n",
            "Epoch 3/20\n",
            "92/92 [==============================] - 157s 2s/step - loss: 0.8178 - accuracy: 0.6829 - val_loss: 0.6995 - val_accuracy: 0.7456\n",
            "Epoch 4/20\n",
            "92/92 [==============================] - 137s 1s/step - loss: 0.6282 - accuracy: 0.7742 - val_loss: 0.4030 - val_accuracy: 0.8842\n",
            "Epoch 5/20\n",
            "92/92 [==============================] - 131s 1s/step - loss: 0.3951 - accuracy: 0.8661 - val_loss: 0.2259 - val_accuracy: 0.9363\n",
            "Epoch 6/20\n",
            "92/92 [==============================] - 129s 1s/step - loss: 0.2083 - accuracy: 0.9366 - val_loss: 0.1437 - val_accuracy: 0.9680\n",
            "Epoch 7/20\n",
            "92/92 [==============================] - 116s 1s/step - loss: 0.1113 - accuracy: 0.9690 - val_loss: 0.0823 - val_accuracy: 0.9755\n",
            "Epoch 8/20\n",
            "92/92 [==============================] - 116s 1s/step - loss: 0.0714 - accuracy: 0.9809 - val_loss: 0.0274 - val_accuracy: 0.9942\n",
            "Epoch 9/20\n",
            "92/92 [==============================] - 129s 1s/step - loss: 0.0252 - accuracy: 0.9963 - val_loss: 0.0204 - val_accuracy: 0.9966\n",
            "Epoch 10/20\n",
            "92/92 [==============================] - 113s 1s/step - loss: 0.0815 - accuracy: 0.9724 - val_loss: 0.0886 - val_accuracy: 0.9772\n",
            "Epoch 11/20\n",
            "92/92 [==============================] - 113s 1s/step - loss: 0.0755 - accuracy: 0.9782 - val_loss: 0.0449 - val_accuracy: 0.9898\n",
            "Epoch 12/20\n",
            "92/92 [==============================] - 112s 1s/step - loss: 0.0471 - accuracy: 0.9894 - val_loss: 0.0783 - val_accuracy: 0.9775\n",
            "Epoch 13/20\n",
            "92/92 [==============================] - 113s 1s/step - loss: 0.0553 - accuracy: 0.9843 - val_loss: 0.0151 - val_accuracy: 0.9976\n",
            "Epoch 14/20\n",
            "92/92 [==============================] - 129s 1s/step - loss: 0.0131 - accuracy: 0.9983 - val_loss: 0.0063 - val_accuracy: 0.9986\n",
            "Epoch 15/20\n",
            "92/92 [==============================] - 127s 1s/step - loss: 0.0023 - accuracy: 1.0000 - val_loss: 0.0020 - val_accuracy: 0.9997\n",
            "Epoch 16/20\n",
            "92/92 [==============================] - 128s 1s/step - loss: 0.0532 - accuracy: 0.9843 - val_loss: 0.1891 - val_accuracy: 0.9390\n",
            "Epoch 17/20\n",
            "92/92 [==============================] - 128s 1s/step - loss: 0.0510 - accuracy: 0.9864 - val_loss: 0.0065 - val_accuracy: 0.9997\n",
            "Epoch 18/20\n",
            "92/92 [==============================] - 129s 1s/step - loss: 0.0122 - accuracy: 0.9966 - val_loss: 0.0030 - val_accuracy: 1.0000\n",
            "Epoch 19/20\n",
            "92/92 [==============================] - 127s 1s/step - loss: 0.0022 - accuracy: 0.9997 - val_loss: 8.6905e-04 - val_accuracy: 1.0000\n",
            "Epoch 20/20\n",
            "92/92 [==============================] - 127s 1s/step - loss: 6.5767e-04 - accuracy: 1.0000 - val_loss: 4.8408e-04 - val_accuracy: 1.0000\n"
          ]
        }
      ]
    },
    {
      "cell_type": "markdown",
      "source": [
        "2) Визуализация результатов обучения нейронной сети"
      ],
      "metadata": {
        "id": "-gHtNnLU3etb"
      }
    },
    {
      "cell_type": "code",
      "source": [
        "acc: list[float] = history.history['accuracy']\n",
        "val_acc: list[float] = history.history['val_accuracy']\n",
        "loss: list[float] = history.history['loss']\n",
        "val_loss: list[float] = history.history['val_loss']\n",
        "epochs_range: list[int] = range(epochs)\n",
        "\n",
        "plt.figure(figsize=(8,8))\n",
        "plt.subplot(1,2,1)\n",
        "plt.plot(epochs_range,acc,label='Training Accuracy 2')\n",
        "plt.plot(epochs_range,val_acc, label='Validation Accuracy 2')\n",
        "plt.legend(loc='lower left')\n",
        "plt.title('Training and Validation Accuracy 2')\n",
        "\n",
        "plt.subplot(1,2,2)\n",
        "plt.plot(epochs_range,loss,label='Training Loss 2')\n",
        "plt.plot(epochs_range,val_loss, label='Validation Loss 2')\n",
        "plt.legend(loc='lower right')\n",
        "plt.title('Training and Validation Loss 2')\n",
        "plt.show()\n"
      ],
      "metadata": {
        "colab": {
          "base_uri": "https://localhost:8080/",
          "height": 699
        },
        "id": "sI7F-HWr3lgk",
        "outputId": "c349ebb6-8cff-4ea3-cf6f-ed45312626d1"
      },
      "execution_count": 59,
      "outputs": [
        {
          "output_type": "display_data",
          "data": {
            "text/plain": [
              "<Figure size 800x800 with 2 Axes>"
            ],
            "image/png": "[encoded data removed]"
          },
          "metadata": {}
        }
      ]
    },
    {
      "cell_type": "markdown",
      "source": [
        "3) Инференс модели"
      ],
      "metadata": {
        "id": "4lbY7klQLphs"
      }
    },
    {
      "cell_type": "code",
      "source": [
        "flower_url: str = \"https://img.freepik.com/free-photo/beautiful-sunflowers-outdoors-still-life_23-2150152824.jpg\"\n",
        "flower_path: str = tf.keras.utils.get_file('new_sunflower', origin=flower_url)\n",
        "\n",
        "img: PIL.JpegImagePlugin.JpegImageFile = tf.keras.utils.load_img(\n",
        "    flower_path, target_size=(img_height, img_width)\n",
        ")\n",
        "img_array: np.ndarray = tf.keras.utils.img_to_array(img)\n",
        "img_array = tf.expand_dims(img_array, 0)\n",
        "\n",
        "predictions: np.ndarray = model.predict(img_array)\n",
        "score: tf.Tensor = tf.nn.softmax(predictions[0])\n",
        "\n",
        "print(\"На изображении скорее всего {} ({:.2f}% вероятность)\".format(\n",
        "    class_names[np.argmax(score)],\n",
        "    100 * np.max(score)\n",
        "))\n",
        "\n"
      ],
      "metadata": {
        "colab": {
          "base_uri": "https://localhost:8080/"
        },
        "id": "loANLyOCp3nK",
        "outputId": "790f76e7-5f52-43d9-f68a-fa01626a99be"
      },
      "execution_count": 73,
      "outputs": [
        {
          "output_type": "stream",
          "name": "stdout",
          "text": [
            "Downloading data from https://img.freepik.com/free-photo/beautiful-sunflowers-outdoors-still-life_23-2150152824.jpg\n",
            "85013/85013 [==============================] - 0s 0us/step\n",
            "1/1 [==============================] - 0s 31ms/step\n",
            "На изображении скорее всего sunflowers (100.00% вероятность)\n"
          ]
        }
      ]
    },
    {
      "cell_type": "code",
      "source": [
        "flower_url: str = \"https://sad-i-ogorod.ru/upload/resize_cache/iblock/925/450_450_2/gsmp4srxi4w9jn1p8z8lb9sth7kqs87m.jpg\"\n",
        "flower_path: str = tf.keras.utils.get_file('flower', origin=flower_url)\n",
        "\n",
        "img: PIL.JpegImagePlugin.JpegImageFile = tf.keras.utils.load_img(\n",
        "    flower_path, target_size=(img_height, img_width)\n",
        ")\n",
        "img_array: np.ndarray = tf.keras.utils.img_to_array(img)\n",
        "img_array = tf.expand_dims(img_array, 0)\n",
        "\n",
        "predictions: np.ndarray = model.predict(img_array)\n",
        "score: tf.Tensor = tf.nn.softmax(predictions[0])\n",
        "\n",
        "print(\"На изображении скорее всего {} ({:.2f}% вероятность)\".format(\n",
        "    class_names[np.argmax(score)],\n",
        "    100 * np.max(score)\n",
        "))\n",
        "\n"
      ],
      "metadata": {
        "colab": {
          "base_uri": "https://localhost:8080/"
        },
        "id": "J4Qhl03io6Ul",
        "outputId": "b673bc59-ab14-4254-867c-638deac4366b"
      },
      "execution_count": 63,
      "outputs": [
        {
          "output_type": "stream",
          "name": "stdout",
          "text": [
            "Downloading data from https://sad-i-ogorod.ru/upload/resize_cache/iblock/925/450_450_2/gsmp4srxi4w9jn1p8z8lb9sth7kqs87m.jpg\n",
            "210533/210533 [==============================] - 1s 5us/step\n",
            "1/1 [==============================] - 0s 46ms/step\n",
            "На изображении скорее всего tulips (65.62% вероятность)\n"
          ]
        }
      ]
    },
    {
      "cell_type": "code",
      "source": [
        "\n",
        "flower_url: str = \"https://tvsamara.ru/media/news/2967-11072022.jpg\"\n",
        "flower_path: str = tf.keras.utils.get_file('first_daisy', origin=flower_url)\n",
        "\n",
        "img: PIL.JpegImagePlugin.JpegImageFile = tf.keras.utils.load_img(\n",
        "    flower_path, target_size=(img_height, img_width)\n",
        ")\n",
        "img_array: np.ndarray = tf.keras.utils.img_to_array(img)\n",
        "img_array = tf.expand_dims(img_array, 0)\n",
        "\n",
        "\n",
        "predictions: np.ndarray = model.predict(img_array)\n",
        "score: tf.Tensor = tf.nn.softmax(predictions[0])\n",
        "\n",
        "\n",
        "print(\"На изображении скорее всего {} ({:.2f}% вероятность)\".format(\n",
        "    class_names[np.argmax(score)],\n",
        "    100 * np.max(score)\n",
        "))"
      ],
      "metadata": {
        "colab": {
          "base_uri": "https://localhost:8080/"
        },
        "id": "MSoCwW69aueT",
        "outputId": "4ad84563-d2d7-4224-a05c-de0aa2bb99ba"
      },
      "execution_count": 72,
      "outputs": [
        {
          "output_type": "stream",
          "name": "stdout",
          "text": [
            "Downloading data from https://tvsamara.ru/media/news/2967-11072022.jpg\n",
            "128123/128123 [==============================] - 1s 5us/step\n",
            "1/1 [==============================] - 0s 34ms/step\n",
            "На изображении скорее всего daisy (100.00% вероятность)\n"
          ]
        }
      ]
    },
    {
      "cell_type": "code",
      "source": [
        "\n",
        "flower_url: str = \"https://zagorodnyy.ru/wp-content/uploads/2022/02/kustovie-zimostoikie-rozi-obraz-5-scaled.jpg\"\n",
        "flower_path: str = tf.keras.utils.get_file('strange_flowers', origin=flower_url)\n",
        "\n",
        "img: PIL.JpegImagePlugin.JpegImageFile = tf.keras.utils.load_img(\n",
        "    flower_path, target_size=(img_height, img_width)\n",
        ")\n",
        "img_array: np.ndarray = tf.keras.utils.img_to_array(img)\n",
        "img_array = tf.expand_dims(img_array, 0)\n",
        "\n",
        "\n",
        "predictions: np.ndarray = model.predict(img_array)\n",
        "score: tf.Tensor = tf.nn.softmax(predictions[0])\n",
        "\n",
        "\n",
        "print(\"На изображении скорее всего {} ({:.2f}% вероятность)\".format(\n",
        "    class_names[np.argmax(score)],\n",
        "    100 * np.max(score)\n",
        "))"
      ],
      "metadata": {
        "colab": {
          "base_uri": "https://localhost:8080/"
        },
        "id": "aieqzXw7et-K",
        "outputId": "c590ecc6-cb6c-4748-ae6f-79dc026b2e0b"
      },
      "execution_count": null,
      "outputs": [
        {
          "output_type": "stream",
          "name": "stdout",
          "text": [
            "Downloading data from https://zagorodnyy.ru/wp-content/uploads/2022/02/kustovie-zimostoikie-rozi-obraz-5-scaled.jpg\n",
            "924727/924727 [==============================] - 1s 2us/step\n",
            "1/1 [==============================] - 0s 35ms/step\n",
            "На изображении скорее всего roses (55.17% вероятность)\n"
          ]
        }
      ]
    },
    {
      "cell_type": "markdown",
      "source": [
        "4) Сохранение модели локально"
      ],
      "metadata": {
        "id": "9tTsezzWTG7v"
      }
    },
    {
      "cell_type": "code",
      "source": [
        "from google.colab import files\n",
        "\n",
        "model_file_name: str = \"flowers_model.h5\"\n",
        "model.save(model_file_name)\n",
        "files.download(model_file_name)"
      ],
      "metadata": {
        "colab": {
          "base_uri": "https://localhost:8080/",
          "height": 71
        },
        "id": "jsYDa1SVTXCp",
        "outputId": "4030555b-3019-4e37-a0b7-fdb86e468e9d"
      },
      "execution_count": null,
      "outputs": [
        {
          "output_type": "stream",
          "name": "stderr",
          "text": [
            "/usr/local/lib/python3.10/dist-packages/keras/src/engine/training.py:3103: UserWarning: You are saving your model as an HDF5 file via `model.save()`. This file format is considered legacy. We recommend using instead the native Keras format, e.g. `model.save('my_model.keras')`.\n",
            "  saving_api.save_model(\n"
          ]
        },
        {
          "output_type": "display_data",
          "data": {
            "text/plain": [
              "<IPython.core.display.Javascript object>"
            ],
            "application/javascript": [
              "\n",
              "    async function download(id, filename, size) {\n",
              "      if (!google.colab.kernel.accessAllowed) {\n",
              "        return;\n",
              "      }\n",
              "      const div = document.createElement('div');\n",
              "      const label = document.createElement('label');\n",
              "      label.textContent = `Downloading \"${filename}\": `;\n",
              "      div.appendChild(label);\n",
              "      const progress = document.createElement('progress');\n",
              "      progress.max = size;\n",
              "      div.appendChild(progress);\n",
              "      document.body.appendChild(div);\n",
              "\n",
              "      const buffers = [];\n",
              "      let downloaded = 0;\n",
              "\n",
              "      const channel = await google.colab.kernel.comms.open(id);\n",
              "      // Send a message to notify the kernel that we're ready.\n",
              "      channel.send({})\n",
              "\n",
              "      for await (const message of channel.messages) {\n",
              "        // Send a message to notify the kernel that we're ready.\n",
              "        channel.send({})\n",
              "        if (message.buffers) {\n",
              "          for (const buffer of message.buffers) {\n",
              "            buffers.push(buffer);\n",
              "            downloaded += buffer.byteLength;\n",
              "            progress.value = downloaded;\n",
              "          }\n",
              "        }\n",
              "      }\n",
              "      const blob = new Blob(buffers, {type: 'application/binary'});\n",
              "      const a = document.createElement('a');\n",
              "      a.href = window.URL.createObjectURL(blob);\n",
              "      a.download = filename;\n",
              "      div.appendChild(a);\n",
              "      a.click();\n",
              "      div.remove();\n",
              "    }\n",
              "  "
            ]
          },
          "metadata": {}
        },
        {
          "output_type": "display_data",
          "data": {
            "text/plain": [
              "<IPython.core.display.Javascript object>"
            ],
            "application/javascript": [
              "download(\"download_f1dc046c-9706-4e73-8696-2018240ffd17\", \"flowers_model.h5\", 47925464)"
            ]
          },
          "metadata": {}
        }
      ]
    }
  ]
}